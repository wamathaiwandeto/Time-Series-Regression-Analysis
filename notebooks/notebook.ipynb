{
 "cells": [
  {
   "cell_type": "markdown",
   "metadata": {},
   "source": [
    "# Time Series Regression Analysis"
   ]
  },
  {
   "cell_type": "code",
   "execution_count": 1,
   "metadata": {},
   "outputs": [],
   "source": [
    "import os\n",
    "import pyodbc\n",
    "from dotenv import load_dotenv, dotenv_values, find_dotenv\n",
    "import pandas as pd"
   ]
  },
  {
   "cell_type": "code",
   "execution_count": 2,
   "metadata": {},
   "outputs": [
    {
     "name": "stdout",
     "output_type": "stream",
     "text": [
      "connected successfully\n"
     ]
    }
   ],
   "source": [
    "#reading data from database\n",
    "#Load environment variables from .env file into a dictionary variable\n",
    "#.env file MUST be in the same root as the notebook to work or alternatively use find_dotenv\n",
    "environment_variables=dotenv_values(find_dotenv('.env'))\n",
    "# Get the values for the credentials you set in the '.env' file\n",
    "database = environment_variables.get(\"DATABASE\")\n",
    "server = environment_variables.get(\"SERVER\")\n",
    "username = environment_variables.get(\"USERNAME\")\n",
    "password = environment_variables.get(\"PASSWORD\")\n",
    " \n",
    "#Connecting to the database\n",
    "connection_string = f\"DRIVER={{SQL Server}};SERVER={server};DATABASE={database};UID={username};PWD={password}\"\n",
    " \n",
    "# Using the connect method of the pyodbc library.\n",
    "# This will connect to the server.\n",
    "connection=pyodbc.connect(connection_string)\n",
    " \n",
    "#hide warnings\n",
    "import warnings\n",
    " \n",
    "warnings.filterwarnings('ignore')\n",
    " \n",
    "print(\"connected successfully\")"
   ]
  },
  {
   "cell_type": "code",
   "execution_count": 3,
   "metadata": {},
   "outputs": [],
   "source": [
    "#reading data from the remote database table\n",
    "query='''SELECT *\n",
    "        FROM dbo.oil'''\n",
    "       \n",
    "oil=pd.read_sql(query,connection)\n",
    " \n",
    "oil.to_csv('../Datasets/oil.csv', index=False)"
   ]
  },
  {
   "cell_type": "code",
   "execution_count": 4,
   "metadata": {},
   "outputs": [],
   "source": [
    "#reading data from the remote database table\n",
    "query='''SELECT *\n",
    "        FROM dbo.holidays_events'''\n",
    "       \n",
    "holidays=pd.read_sql(query,connection)\n",
    " \n",
    "holidays.to_csv('../Datasets/holidays.csv', index=False)"
   ]
  },
  {
   "cell_type": "code",
   "execution_count": 5,
   "metadata": {},
   "outputs": [],
   "source": [
    "#reading data from the remote database table\n",
    "query='''SELECT *\n",
    "        FROM dbo.stores'''\n",
    "       \n",
    "stores=pd.read_sql(query,connection)\n",
    " \n",
    "stores.to_csv('../Datasets/stores.csv', index=False)"
   ]
  }
 ],
 "metadata": {
  "kernelspec": {
   "display_name": ".venv",
   "language": "python",
   "name": "python3"
  },
  "language_info": {
   "codemirror_mode": {
    "name": "ipython",
    "version": 3
   },
   "file_extension": ".py",
   "mimetype": "text/x-python",
   "name": "python",
   "nbconvert_exporter": "python",
   "pygments_lexer": "ipython3",
   "version": "3.12.0"
  }
 },
 "nbformat": 4,
 "nbformat_minor": 2
}
